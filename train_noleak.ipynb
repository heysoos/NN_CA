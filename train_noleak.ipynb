{
 "cells": [
  {
   "cell_type": "markdown",
   "metadata": {
    "Collapsed": "false",
    "pycharm": {
     "name": "#%% md\n"
    }
   },
   "source": [
    "# Import"
   ]
  },
  {
   "cell_type": "code",
   "execution_count": 1,
   "metadata": {
    "Collapsed": "false",
    "collapsed": false,
    "jupyter": {
     "outputs_hidden": false
    },
    "pycharm": {
     "name": "#%%\n"
    }
   },
   "outputs": [],
   "source": [
    "import numpy as np\n",
    "import matplotlib.pyplot as plt\n",
    "\n",
    "import torch\n",
    "import torch.nn as nn\n",
    "import torch.nn.functional as F\n",
    "\n",
    "from PIL import Image\n",
    "from skimage.color import rgba2rgb\n",
    "import cv2\n",
    "from IPython.display import display, clear_output\n",
    "from math import *\n",
    "import time\n",
    "\n",
    "from os import makedirs, path\n",
    "\n",
    "from tqdm import tqdm"
   ]
  },
  {
   "cell_type": "markdown",
   "metadata": {
    "Collapsed": "false"
   },
   "source": [
    "# Define Classes/Functions"
   ]
  },
  {
   "cell_type": "code",
   "execution_count": 2,
   "metadata": {
    "Collapsed": "false",
    "collapsed": false,
    "jupyter": {
     "outputs_hidden": false
    },
    "pycharm": {
     "name": "#%%\n"
    }
   },
   "outputs": [],
   "source": [
    "HIDDEN = 32\n",
    "DIM = 16\n",
    "RES = 128\n",
    "\n",
    "\n",
    "def augment(x):\n",
    "    xx = x + 0.4*torch.randn_like(x) + 0.2*torch.randn(x.size(0)).cuda().view(x.size(0),1,1,1)\n",
    "    xx = xx*(2*torch.randint(2,(x.size(0),)).float().cuda().view(x.size(0),1,1,1)-1)\n",
    "    xx = xx[:,:,8:-8,8:-8]\n",
    "    \n",
    "    return xx\n",
    "\n",
    "\n",
    "def totalistic(x):\n",
    "    z = 0.125 * (x + x.flip(2) + x.flip(3) + x.flip(2).flip(3))\n",
    "    z = z + 0.125 * (x.transpose(2, 3) + x.transpose(2, 3).flip(2) + x.transpose(2, 3).flip(3) + x.transpose(2, 3).flip(\n",
    "        2).flip(3))\n",
    "    z = z - z.mean(3).mean(2).unsqueeze(2).unsqueeze(3)\n",
    "\n",
    "    return z\n",
    "\n",
    "\n",
    "class Rule(nn.Module):\n",
    "    def __init__(self):\n",
    "        super().__init__()\n",
    "        self.filter1 = nn.Parameter(torch.randn(HIDDEN, 1, 5, 5)/sqrt(HIDDEN))\n",
    "        self.bias1 = nn.Parameter(0*torch.randn(HIDDEN))\n",
    "\n",
    "        self.filter2 = nn.Conv2d(HIDDEN, HIDDEN, 1, padding=0)\n",
    "        nn.init.orthogonal_(self.filter2.weight, gain=2)\n",
    "        nn.init.zeros_(self.filter2.bias)\n",
    "        self.filter3 = nn.Conv2d(HIDDEN, HIDDEN, 1, padding=0)\n",
    "        nn.init.orthogonal_(self.filter3.weight, gain=2)\n",
    "        nn.init.zeros_(self.filter3.bias)\n",
    "\n",
    "\n",
    "class CA(nn.Module):\n",
    "    def __init__(self):\n",
    "        super().__init__()\n",
    "\n",
    "        self.rule = Rule()\n",
    "        self.optim = torch.optim.Adam(self.parameters(), lr=1e-3)\n",
    "\n",
    "    def initGrid(self, BS):\n",
    "        self.psi = torch.cuda.FloatTensor(2 * np.random.rand(BS, HIDDEN, RES, RES) - 1)\n",
    "\n",
    "    def forward(self):\n",
    "        z = F.conv2d(self.psi, weight=totalistic(self.rule.filter1), bias=self.rule.bias1, padding=2, groups=HIDDEN)\n",
    "        z = F.leaky_relu(z)\n",
    "        z = F.leaky_relu(self.rule.filter2(z))\n",
    "        self.psi = torch.tanh(self.psi + self.rule.filter3(z))\n",
    "\n",
    "    def cleanup(self):\n",
    "        del self.psi\n",
    "\n",
    "\n",
    "class Embedder(nn.Module):\n",
    "    def __init__(self):\n",
    "        super().__init__()\n",
    "\n",
    "        self.c1 = nn.Conv2d(3, 32, 3, padding=1)\n",
    "        nn.init.orthogonal_(self.c1.weight, gain=sqrt(2))\n",
    "        self.p1 = nn.AvgPool2d(2)\n",
    "        self.c2 = nn.Conv2d(32, 64, 3, padding=1)\n",
    "        nn.init.orthogonal_(self.c2.weight, gain=sqrt(2))\n",
    "        self.p2 = nn.AvgPool2d(2)\n",
    "        self.c3 = nn.Conv2d(64, 128, 3, padding=1)\n",
    "        nn.init.orthogonal_(self.c3.weight, gain=sqrt(2))\n",
    "        self.p3 = nn.AvgPool2d(2)\n",
    "        self.c4 = nn.Conv2d(128, 128, 3, padding=1)\n",
    "        nn.init.orthogonal_(self.c4.weight, gain=sqrt(2))\n",
    "        self.p4 = nn.AvgPool2d(2)\n",
    "        self.c5 = nn.Conv2d(128, DIM, 3, padding=1)\n",
    "\n",
    "    def forward(self, x):\n",
    "        z = self.p1(F.leaky_relu(self.c1(x)))\n",
    "        z = self.p2(F.leaky_relu(self.c2(z)))\n",
    "        z = self.p3(F.leaky_relu(self.c3(z)))\n",
    "        z = self.p4(F.leaky_relu(self.c4(z)))\n",
    "        z = self.c5(z).mean(3).mean(2)\n",
    "\n",
    "        z = z/torch.sqrt(1+torch.sum(z**2,1).unsqueeze(1))\n",
    "\n",
    "        return z\n",
    "\n",
    "\n",
    "def findHardNegative(zs):\n",
    "    step = 0\n",
    "\n",
    "    while step < 1000:\n",
    "        i = np.random.randint(zs.shape[0])\n",
    "        j = i\n",
    "        k = np.random.randint(zs.shape[0] - 1)\n",
    "        if k >= i:\n",
    "            k += 1\n",
    "\n",
    "        i2 = np.random.randint(zs.shape[1])\n",
    "        j2 = np.random.randint(zs.shape[1] - 1)\n",
    "        if j2 >= i2:\n",
    "            j2 += 1\n",
    "        k2 = np.random.randint(zs.shape[1])\n",
    "\n",
    "        z1 = zs[i, i2]\n",
    "        z2 = zs[j, j2]\n",
    "        z3 = zs[k, k2]\n",
    "\n",
    "        delta = np.sqrt(np.sum((z1 - z2) ** 2, axis=0)) - np.sqrt(np.sum((z1 - z3) ** 2, axis=0)) + 1\n",
    "        if delta >= 0.9:\n",
    "            break\n",
    "        step += 1\n",
    "\n",
    "    return i, k, step"
   ]
  },
  {
   "cell_type": "markdown",
   "metadata": {
    "Collapsed": "true"
   },
   "source": [
    "# Test"
   ]
  },
  {
   "cell_type": "code",
   "execution_count": 7,
   "metadata": {
    "Collapsed": "false",
    "collapsed": false,
    "jupyter": {
     "outputs_hidden": false
    },
    "pycharm": {
     "name": "#%%\n"
    }
   },
   "outputs": [],
   "source": [
    "population = [CA().cuda() for i in range(1)]\n",
    "for ca in population:\n",
    "    ca.initGrid(BS=1)\n",
    "# embed = Embedder().cuda()"
   ]
  },
  {
   "cell_type": "code",
   "execution_count": 9,
   "metadata": {
    "Collapsed": "false",
    "collapsed": false,
    "jupyter": {
     "outputs_hidden": false
    },
    "pycharm": {
     "name": "#%%\n"
    }
   },
   "outputs": [
    {
     "name": "stdout",
     "output_type": "stream",
     "text": [
      "450\n"
     ]
    },
    {
     "data": {
      "image/png": "[encoded data removed]",
      "text/plain": [
       "<Figure size 576x576 with 1 Axes>"
      ]
     },
     "metadata": {},
     "output_type": "display_data"
    },
    {
     "data": {
      "image/png": "[encoded data removed]",
      "text/plain": [
       "<Figure size 576x576 with 1 Axes>"
      ]
     },
     "metadata": {
      "needs_background": "light"
     },
     "output_type": "display_data"
    }
   ],
   "source": [
    "CA_run = population[0]\n",
    "CA_run.initGrid(BS=1)\n",
    "\n",
    "# CENTER SEED\n",
    "x = torch.cuda.FloatTensor(np.zeros((HIDDEN, RES, RES))).unsqueeze(0)\n",
    "x[:, 3:, RES//2, RES//2] = 1\n",
    "# x[:, 3:, RES//3 : 2*RES//3, RES//3 : 2*RES//3] = 1\n",
    "CA_run.psi = x\n",
    "\n",
    "imgs = []\n",
    "\n",
    "timeSteps = 500\n",
    "\n",
    "with torch.no_grad():\n",
    "    for i in range(timeSteps):\n",
    "        nx = CA_run.psi.cpu().numpy()[0, 0:4, :, :].transpose(1, 2, 0)\n",
    "        nx = rgba2rgb(nx)\n",
    "        imgs.append(nx)\n",
    "\n",
    "        if i%50 == 0:\n",
    "            plt.clf()\n",
    "            plt.imshow(nx)\n",
    "            plt.gcf().set_size_inches((8,8))\n",
    "            clear_output(wait=True)\n",
    "            print(f'{i}')\n",
    "            display(plt.gcf())\n",
    "            time.sleep(0.01)\n",
    "\n",
    "        CA_run.forward()\n",
    "    \n",
    "\n",
    "fname = time.strftime(\"%Y%m%d-%H%M%S\")\n",
    "out = cv2.VideoWriter(f'CA-{fname}.avi',cv2.VideoWriter_fourcc(*'DIVX'), 60, (RES, RES), 3)\n",
    "\n",
    "for img in imgs:\n",
    "    img = np.uint8(cv2.cvtColor(img, cv2.COLOR_RGB2BGR)*255.0)\n",
    "    out.write(img)\n",
    "out.release()"
   ]
  },
  {
   "cell_type": "markdown",
   "metadata": {
    "Collapsed": "false",
    "pycharm": {
     "name": "#%% md\n"
    }
   },
   "source": [
    "# Train"
   ]
  },
  {
   "cell_type": "code",
   "execution_count": null,
   "metadata": {
    "Collapsed": "false",
    "pycharm": {
     "name": "#%%\n"
    }
   },
   "outputs": [
    {
     "name": "stdout",
     "output_type": "stream",
     "text": [
      "Epoch: 0\n",
      "Generating embeddings for CAs...\n",
      "Training embedder\n",
      "emb_err: 0.8008884108066558, hard_frac: 8.416\n",
      "Training CAs\n",
      "CA_loss: 0.32186299055814743\n",
      "Epoch: 1\n",
      "Generating embeddings for CAs...\n",
      "Training embedder\n",
      "emb_err: 0.7984526717662811, hard_frac: 20.656\n",
      "Training CAs\n",
      "CA_loss: 0.27670101071707903\n",
      "Epoch: 2\n",
      "Generating embeddings for CAs...\n",
      "Training embedder\n",
      "emb_err: 0.8576934415102005, hard_frac: 27.124\n",
      "Training CAs\n",
      "CA_loss: 0.30965398092754187\n",
      "Epoch: 3\n",
      "Generating embeddings for CAs...\n",
      "Training embedder\n",
      "emb_err: 0.8017930090427399, hard_frac: 36.404\n",
      "Training CAs\n",
      "CA_loss: 0.2697276452637743\n",
      "Epoch: 4\n",
      "Generating embeddings for CAs...\n",
      "Training embedder\n",
      "emb_err: 0.8453471285104751, hard_frac: 25.172\n",
      "Training CAs\n",
      "CA_loss: 0.3526860271953046\n",
      "Epoch: 5\n",
      "Generating embeddings for CAs...\n",
      "Training embedder\n",
      "emb_err: 0.860453007221222, hard_frac: 24.632\n",
      "Training CAs\n",
      "CA_loss: 0.25723031397908924\n",
      "Epoch: 6\n",
      "Generating embeddings for CAs...\n",
      "Training embedder\n",
      "emb_err: 0.8785305190086364, hard_frac: 25.04\n",
      "Training CAs\n",
      "CA_loss: 0.4384484500065446\n",
      "Epoch: 7\n",
      "Generating embeddings for CAs...\n",
      "Training embedder\n",
      "emb_err: 0.6783651775121688, hard_frac: 11.396\n",
      "Training CAs\n",
      "CA_loss: 0.2504752250947058\n",
      "Epoch: 8\n",
      "Generating embeddings for CAs...\n",
      "Training embedder\n",
      "emb_err: 0.904889543056488, hard_frac: 29.244\n",
      "Training CAs\n"
     ]
    }
   ],
   "source": [
    "population = [CA().cuda() for i in range(100)]\n",
    "timestr = time.strftime(\"%Y%m%d-%H%M%S\")\n",
    "\n",
    "'''\n",
    "for i in range(1,len(population)):\n",
    "    population[i].rule.filter1.data = population[0].rule.filter1.data.detach()\n",
    "    population[i].rule.bias1.data = population[0].rule.bias1.data.detach()\n",
    "    population[i].rule.filter2.weight.data = population[0].rule.filter2.weight.data.detach()\n",
    "    population[i].rule.filter3.weight.data = population[0].rule.filter3.weight.data.detach()\n",
    "    population[i].rule.filter2.bias.data = population[0].rule.filter2.bias.data.detach()\n",
    "    population[i].rule.filter3.bias.data = population[0].rule.filter3.bias.data.detach()\n",
    "'''\n",
    "\n",
    "embed = Embedder().cuda()\n",
    "\n",
    "emb_err = []\n",
    "ca_err = []\n",
    "hard_frac = []\n",
    "\n",
    "e_optim = torch.optim.Adam(embed.parameters(), lr=1e-4)\n",
    "tloss = nn.TripletMarginLoss()\n",
    "\n",
    "CBS = 10 # should be even number\n",
    "# EBS = 15\n",
    "# ESTEPS = 25\n",
    "EBS = 5\n",
    "ESTEPS = 50\n",
    "\n",
    "for epoch in range(100):\n",
    "    print(f'Epoch: {epoch}')\n",
    "    e_loss = []\n",
    "    c_loss = []\n",
    "    h_loss = []\n",
    "\n",
    "    zs = []\n",
    "    xs = []\n",
    "    with torch.no_grad():\n",
    "        print('Generating embeddings for CAs...')\n",
    "        for ca in population:\n",
    "            lzs = []\n",
    "            ca.initGrid(CBS)\n",
    "            for j in range(25):\n",
    "                ca.forward()\n",
    "                \n",
    "            x = []\n",
    "            for j in range(3):\n",
    "                x.append(ca.psi[:,0:1,:,:])\n",
    "                ca.forward()\n",
    "            x = torch.cat(x,1)\n",
    "            \n",
    "            lzs.append(embed.forward(x).cpu().detach().numpy())\n",
    "            # lxs.append(ca.psi.cpu().detach().numpy())\n",
    "            zs.append(np.concatenate(lzs, axis=0)[np.newaxis])\n",
    "            ca.cleanup()\n",
    "        zs = np.concatenate(zs, axis=0)\n",
    "\n",
    "    # Train embedder\n",
    "    print('Training embedder')\n",
    "    for i in range(ESTEPS):\n",
    "        x1 = []\n",
    "        x2 = []\n",
    "        x3 = []\n",
    "\n",
    "        for j in range(EBS):\n",
    "            a, b, hard = findHardNegative(zs)\n",
    "\n",
    "            CA1 = population[a]\n",
    "            CA2 = population[b]\n",
    "\n",
    "            with torch.no_grad():\n",
    "                CA1.initGrid(2)\n",
    "                CA2.initGrid(1)\n",
    "\n",
    "                K1 = 25\n",
    "                K2 = 25\n",
    "\n",
    "                for k in range(K1):\n",
    "                    CA1.forward()\n",
    "                    \n",
    "                c1 = []\n",
    "                for k in range(3):\n",
    "                    c1.append(CA1.psi[:,0:1,:,:])\n",
    "                    CA1.forward()\n",
    "                c1 = torch.cat(c1,1)\n",
    "                \n",
    "                for k in range(K2):\n",
    "                    CA2.forward()\n",
    "\n",
    "                c2 = []\n",
    "                for k in range(3):\n",
    "                    c2.append(CA2.psi[:,0:1,:,:])\n",
    "                    CA2.forward()\n",
    "                c2 = torch.cat(c2,1)\n",
    "                \n",
    "                # is there a reason we're throwing these into CPU and then throwing them back on GPU later? \n",
    "                im1 = c1[0].cpu().detach().numpy()\n",
    "                im2 = c1[1].cpu().detach().numpy()\n",
    "                im3 = c2[0].cpu().detach().numpy()\n",
    "\n",
    "                CA1.cleanup()\n",
    "                CA2.cleanup()\n",
    "\n",
    "            x1.append(im1)\n",
    "            x2.append(im2)\n",
    "            x3.append(im3)\n",
    "            h_loss.append(hard)\n",
    "\n",
    "        x1 = torch.cuda.FloatTensor(np.array(x1))\n",
    "        x2 = torch.cuda.FloatTensor(np.array(x2))\n",
    "        x3 = torch.cuda.FloatTensor(np.array(x3))\n",
    "\n",
    "        e_optim.zero_grad()\n",
    "        z1 = embed.forward(x1)\n",
    "        z2 = embed.forward(x2)\n",
    "        z3 = embed.forward(x3)\n",
    "\n",
    "        loss = tloss(z1, z2, z3)\n",
    "        loss.backward()\n",
    "        e_optim.step()\n",
    "\n",
    "        e_loss.append(loss.cpu().detach().item())\n",
    "\n",
    "    emb_err.append(np.mean(e_loss))\n",
    "    hard_frac.append(np.mean(h_loss))\n",
    "    print(f'emb_err: {emb_err[-1]}, hard_frac: {hard_frac[-1]}')\n",
    "\n",
    "    # Train CAs\n",
    "    print('Training CAs')\n",
    "    for ii in range(len(population) // 2):\n",
    "        i = np.random.randint(len(population))\n",
    "        CA1 = population[i]\n",
    "        z1 = zs[i, 0]\n",
    "        z2 = zs[i, 1]\n",
    "\n",
    "        d12 = np.sqrt(np.sum((z1 - z2) ** 2, axis=0))\n",
    "        step = 0\n",
    "        while step < 1000:\n",
    "            j = np.random.randint(len(population) - 1)\n",
    "            if j >= i:\n",
    "                j += 1\n",
    "\n",
    "            z3 = zs[j, 0]\n",
    "\n",
    "            d13 = np.sqrt(np.sum((z1 - z3) ** 2, axis=0))\n",
    "            if d12 - d13 + 1 > 1:\n",
    "                break\n",
    "\n",
    "            step += 1\n",
    "\n",
    "        CA2 = population[j]\n",
    "\n",
    "        CA1.optim.zero_grad()\n",
    "        CA2.optim.zero_grad()\n",
    "\n",
    "        CA1.initGrid(CBS)\n",
    "        CA2.initGrid(CBS//2)\n",
    "\n",
    "        S1 = 25\n",
    "        S2 = 25\n",
    "\n",
    "        for j in range(S1):\n",
    "            CA1.forward()\n",
    "            \n",
    "        c1 = []\n",
    "        for k in range(3):\n",
    "            c1.append(CA1.psi[:,0:1,:,:])\n",
    "            CA1.forward()\n",
    "        c1 = torch.cat(c1,1)\n",
    "\n",
    "        for j in range(S2):\n",
    "            CA2.forward()\n",
    "            \n",
    "        c2 = []\n",
    "        for k in range(3):\n",
    "            c2.append(CA2.psi[:,0:1,:,:])\n",
    "            CA2.forward()\n",
    "        c2 = torch.cat(c2,1)\n",
    "\n",
    "#         im = CA1.psi.detach().cpu().numpy()[0, 0, :, :] * 0.5 + 0.5\n",
    "#         im = (255 * np.clip(im, 0, 1)).astype(np.uint8)\n",
    "        im = CA1.psi.detach().cpu().numpy()[0, 0:3, :, :].transpose(1, 2, 0) * 0.5 + 0.5\n",
    "        im = (im * 255).astype('uint8')\n",
    "        im = Image.fromarray(im, 'RGB')\n",
    "        \n",
    "#         fpath = path.join('frames', timestr, 'epoch_' + str(epoch).zfill(3))\n",
    "        fpath = path.join('frames', timestr, 'CA', 'CA_' + str(i).zfill(5)) # images saved according to CA\n",
    "        fpath_epoch = path.join('frames', timestr, 'all', 'epoch_' + str(epoch).zfill(3)) # images saved according to epoch\n",
    "        if not path.exists(fpath):\n",
    "            makedirs(fpath)\n",
    "        if not path.exists(fpath_epoch):\n",
    "            makedirs(fpath_epoch)\n",
    "        im.save(path.join(fpath, str(i).zfill(5) + '_epoch_' + str(epoch).zfill(3) + '.png'))\n",
    "        im.save(path.join(fpath_epoch, 'CA_' + str(i).zfill(5) + '.png'))\n",
    "        \n",
    "        z1 = embed.forward(c1)\n",
    "        z3 = embed.forward(c2)\n",
    "\n",
    "        z2 = z1[CBS//2:]\n",
    "        z1 = z1[:CBS//2]\n",
    "\n",
    "        loss = tloss(z1,z2,z3)\n",
    "        loss.backward()\n",
    "        CA1.optim.step()\n",
    "        CA2.optim.step()\n",
    "\n",
    "        c_loss.append(loss.cpu().detach().item())\n",
    "\n",
    "        CA1.cleanup()\n",
    "        CA2.cleanup()\n",
    "\n",
    "    ca_err.append(np.mean(c_loss))\n",
    "    print(f'CA_loss: {ca_err[-1]}')\n",
    "\n",
    "    np.savetxt(\"embed.txt\", np.array(emb_err))\n",
    "    np.savetxt(\"ca.txt\", np.array(ca_err))\n",
    "    np.savetxt(\"hard.txt\", np.array(hard_frac))\n"
   ]
  },
  {
   "cell_type": "code",
   "execution_count": null,
   "metadata": {
    "Collapsed": "false",
    "collapsed": false,
    "jupyter": {
     "outputs_hidden": false
    },
    "pycharm": {
     "name": "#%%\n"
    }
   },
   "outputs": [],
   "source": [
    "# Random Debug"
   ]
  },
  {
   "cell_type": "code",
   "execution_count": null,
   "metadata": {
    "Collapsed": "false",
    "collapsed": false,
    "jupyter": {
     "outputs_hidden": false
    },
    "pycharm": {
     "name": "#%%\n"
    }
   },
   "outputs": [],
   "source": [
    "im1 = CA1.psi.cpu().detach().numpy()[0, 0:3, :, :].transpose(1, 2, 0)\n",
    "im2 = CA1.psi.cpu().detach().numpy()[1, 0:3, :, :].transpose(1, 2, 0)\n",
    "plt.imshow(np.abs(im2-im1)/2)"
   ]
  },
  {
   "cell_type": "code",
   "execution_count": null,
   "metadata": {
    "Collapsed": "false",
    "collapsed": false,
    "jupyter": {
     "outputs_hidden": false
    },
    "pycharm": {
     "name": "#%%\n"
    }
   },
   "outputs": [],
   "source": [
    "plt.imshow((CA2.psi.cpu().detach().numpy()[0, 0:3, :, :].transpose(1, 2, 0) + 1)/2)"
   ]
  },
  {
   "cell_type": "code",
   "execution_count": null,
   "metadata": {
    "Collapsed": "false",
    "collapsed": false,
    "jupyter": {
     "outputs_hidden": false
    },
    "pycharm": {
     "name": "#%%\n"
    }
   },
   "outputs": [],
   "source": [
    "plt.imshow(embed.forward(CA1.psi).cpu().detach().numpy()[0, 0:3, :, :].transpose(1, 2, 0))"
   ]
  },
  {
   "cell_type": "code",
   "execution_count": null,
   "metadata": {
    "Collapsed": "false",
    "collapsed": false,
    "jupyter": {
     "outputs_hidden": false
    },
    "pycharm": {
     "name": "#%%\n"
    }
   },
   "outputs": [],
   "source": [
    "np.shape(lzs)"
   ]
  },
  {
   "cell_type": "code",
   "execution_count": null,
   "metadata": {
    "Collapsed": "false",
    "collapsed": false,
    "jupyter": {
     "outputs_hidden": false
    },
    "pycharm": {
     "name": "#%%\n"
    }
   },
   "outputs": [],
   "source": [
    "embed.forward(population[0].psi).mean(3).mean(2).cpu().detach().numpy().shape"
   ]
  },
  {
   "cell_type": "code",
   "execution_count": null,
   "metadata": {
    "Collapsed": "false",
    "collapsed": false,
    "jupyter": {
     "outputs_hidden": false
    },
    "pycharm": {
     "name": "#%%\n"
    }
   },
   "outputs": [],
   "source": [
    "plt.plot(embed.forward(CA1.psi).mean(3).mean(2).cpu().detach().numpy().transpose())"
   ]
  },
  {
   "cell_type": "code",
   "execution_count": null,
   "metadata": {
    "Collapsed": "false",
    "collapsed": false,
    "jupyter": {
     "outputs_hidden": false
    },
    "pycharm": {
     "name": "#%%\n"
    }
   },
   "outputs": [],
   "source": [
    "embed.forward(population[0].psi).cpu().detach().numpy().shape"
   ]
  },
  {
   "cell_type": "code",
   "execution_count": null,
   "metadata": {
    "Collapsed": "false",
    "collapsed": false,
    "jupyter": {
     "outputs_hidden": false
    },
    "pycharm": {
     "name": "#%%\n"
    }
   },
   "outputs": [],
   "source": [
    "zs.shape"
   ]
  },
  {
   "cell_type": "code",
   "execution_count": 120,
   "metadata": {
    "Collapsed": "false"
   },
   "outputs": [],
   "source": [
    "zs.shape"
   ]
  }
 ],
 "metadata": {
  "kernelspec": {
   "display_name": "Python 3",
   "language": "python",
   "name": "python3"
  },
  "language_info": {
   "codemirror_mode": {
    "name": "ipython",
    "version": 3
   },
   "file_extension": ".py",
   "mimetype": "text/x-python",
   "name": "python",
   "nbconvert_exporter": "python",
   "pygments_lexer": "ipython3",
   "version": "3.7.6"
  }
 },
 "nbformat": 4,
 "nbformat_minor": 4
}