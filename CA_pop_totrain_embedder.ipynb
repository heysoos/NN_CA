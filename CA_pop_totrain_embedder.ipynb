{
 "cells": [
  {
   "cell_type": "markdown",
   "metadata": {
    "Collapsed": "false",
    "jupyter": {
     "outputs_hidden": true
    }
   },
   "source": [
    "# Import/Initialize"
   ]
  },
  {
   "cell_type": "code",
   "execution_count": 1,
   "metadata": {
    "Collapsed": "false"
   },
   "outputs": [],
   "source": [
    "import torch\n",
    "import torch.nn as nn\n",
    "import torch.nn.functional as F\n",
    "import torch.optim as optim\n",
    "\n",
    "import numpy as np\n",
    "import matplotlib.pyplot as plt\n",
    "from IPython.display import display, clear_output\n",
    "from tqdm import tqdm\n",
    "\n",
    "import time\n",
    "from PIL import Image\n",
    "import cv2\n",
    "from skimage.color import rgba2rgb\n",
    "from skimage.io import imread\n",
    "import copy\n",
    "\n",
    "from collections import OrderedDict"
   ]
  },
  {
   "cell_type": "code",
   "execution_count": 2,
   "metadata": {
    "Collapsed": "false"
   },
   "outputs": [],
   "source": [
    "CHANNEL_N = 16\n",
    "RADIUS = 1\n",
    "NUM_FILTERS = 6\n",
    "HIDDEN_N = 128\n",
    "# HIDDEN_N = [128, CHANNEL_N]\n",
    "\n",
    "EMBED_KERNEL = 5\n",
    "\n",
    "TARGET_SIZE = 40\n",
    "TARGET_PADDING = 16\n",
    "BATCH_SIZE = 1"
   ]
  },
  {
   "cell_type": "code",
   "execution_count": 3,
   "metadata": {
    "Collapsed": "false"
   },
   "outputs": [],
   "source": [
    "class Filter(nn.Module):\n",
    "    def __init__(self, r=RADIUS, symmetric=True):\n",
    "        super().__init__()\n",
    "        \n",
    "        \n",
    "        f = torch.randn(2*r + 1)\n",
    "        if symmetric:\n",
    "            f = (f + f.flip(0))/2\n",
    "        f = torch.ger(f, f)\n",
    "#         f[r, r] = 0\n",
    "        f = f - f.mean()\n",
    "#         f = f - f.sum()/(f.numel() - 1)\n",
    "\n",
    "#         f[r, r] = 0\n",
    "#         f = f / (f.numel() - 1)\n",
    "        \n",
    "        f = f / (f.numel())\n",
    "        \n",
    "        self.kernel = nn.Parameter(f)\n",
    "\n",
    "\n",
    "class CAModel(nn.Module):\n",
    "    def __init__(self, channel_n=CHANNEL_N, r=RADIUS, num_filters=NUM_FILTERS, hidden_n=HIDDEN_N):\n",
    "        super().__init__()            \n",
    "        \n",
    "        self.channel_n = channel_n\n",
    "        self.r = r\n",
    "        self.num_filters = num_filters\n",
    "        self.fire_rate = 0.5\n",
    "        \n",
    "        # define identity matrix\n",
    "        identity = torch.zeros(2*self.r + 1)\n",
    "        identity[self.r] = 1\n",
    "        self.identity = torch.ger(identity, identity)\n",
    "        self.identity = nn.Parameter(self.identity, requires_grad=False)\n",
    "\n",
    "        # initialize perception kernel (trainable) \n",
    "        self.rand_filters = [Filter(self.r, symmetric=True).kernel for i in range(self.num_filters)]\n",
    "        \n",
    "        self.filters = nn.ParameterList([self.identity] + self.rand_filters)\n",
    "        \n",
    "        # Sobel filters\n",
    "#         self.sx = torch.ger(torch.FloatTensor([1, 2, 1]), torch.FloatTensor([-1, 0, 1])) / 8\n",
    "#         self.sx = nn.Parameter(self.sx, requires_grad=False)\n",
    "#         self.sy = nn.Parameter(self.sx.T.type(torch.FloatTensor), requires_grad=False)\n",
    "#         self.filters = [torch.cuda.FloatTensor(self.sx), torch.cuda.FloatTensor(self.sy)]\n",
    "        \n",
    "        \n",
    "        # 1D conv network\n",
    "        self.dmodel = nn.Sequential(OrderedDict([\n",
    "            ('conv1', nn.Conv2d(self.channel_n*(self.num_filters + 1), hidden_n, 1, padding_mode='circular')),\n",
    "            ('relu1', nn.ReLU()),\n",
    "            ('conv2', nn.Conv2d(hidden_n, self.channel_n, 1, padding_mode='circular')),\n",
    "        ]))\n",
    "        \n",
    "        # 1D conv network\n",
    "#         self.dmodel = [nn.Conv2d(self.channel_n*(self.num_filters + 1), hidden_n[0], 1, padding_mode='circular')]\n",
    "#         self.dmodel.append(nn.LeakyReLU())\n",
    "#         for i in range(1, len(hidden_n)):\n",
    "#             l = nn.Conv2d(hidden_n[i-1], hidden_n[i], 1, padding_mode='circular')\n",
    "#             self.dmodel.append(l)\n",
    "#             if i < (len(hidden_n) - 1):\n",
    "#                 self.dmodel.append(nn.LeakyReLU())\n",
    "        \n",
    "        gain=nn.init.calculate_gain('leaky_relu')\n",
    "#         for l in self.dmodel:\n",
    "#             if type(l) == nn.Conv2d:\n",
    "#                 nn.init.xavier_uniform_(l.weight, gain)\n",
    "#         self.dmodel = nn.Sequential(*self.dmodel)\n",
    "        \n",
    "        # update rule - initialized with zeros so initial behaviour is 'do nothing' (trainable)\n",
    "#         gain=nn.init.calculate_gain('relu')\n",
    "#         nn.init.zeros_(self.dmodel.conv2.weight)\n",
    "#         nn.init.zeros_(self.dmodel.conv2.bias)\n",
    "\n",
    "        nn.init.xavier_uniform_(self.dmodel.conv1.weight, gain)\n",
    "#         nn.init.zeros_(self.dmodel.conv2.bias)\n",
    "\n",
    "        nn.init.xavier_uniform_(self.dmodel.conv2.weight, gain)\n",
    "\n",
    "         \n",
    "    def perceive(self, x):              \n",
    "#         filters = [self.identity] + [f.kernel for f in self.rand_filters]\n",
    "#         filters = [self.identity, self.sx, self.sy]\n",
    "        filters = [f for f in self.filters]\n",
    "        numFilters = len(filters)\n",
    "        k_size = 2*self.r + 1\n",
    "        \n",
    "        filters = torch.stack(filters).unsqueeze(0)\n",
    "        filters = torch.repeat_interleave(filters, self.channel_n, dim=0)\n",
    "        filters = filters.view(self.channel_n*numFilters, 1, k_size, k_size)  # combine filters into batch dimension (or out dimension, idk)\n",
    "        \n",
    "        # depthwise conv2d (groups==self.channel_n)\n",
    "        x = F.pad(x, (self.r, self.r, self.r, self.r), mode='circular')\n",
    "        y = F.conv2d(x, filters, padding=self.r, groups=self.channel_n) \n",
    "        y = y[:, :, self.r:-self.r, self.r:-self.r]\n",
    "        return y\n",
    "    \n",
    "    def get_living_mask(self, x):\n",
    "        alpha_channel = x[:, 3:4, :, :]\n",
    "        alpha_channel = F.pad(alpha_channel, (self.r, self.r, self.r, self.r), mode='circular')\n",
    "\n",
    "        alive_mask = F.max_pool2d(alpha_channel, kernel_size=2*self.r+1, stride=1, padding=self.r) > 0.1\n",
    "        alive_mask = alive_mask[:, :, self.r:-self.r, self.r:-self.r] \n",
    "        \n",
    "        death_mask = F.avg_pool2d(alpha_channel, kernel_size=2*self.r+1, stride=1, padding=self.r) < 0.2\n",
    "        death_mask = death_mask[:, :, self.r:-self.r, self.r:-self.r] \n",
    "        return alive_mask.cuda() & death_mask.cuda()\n",
    "    \n",
    "    def forward(self, x, fire_rate=None, step_size=1.0):\n",
    "        \n",
    "        pre_life_mask = self.get_living_mask(x)\n",
    "        \n",
    "        y = self.perceive(x)\n",
    "        dx = self.dmodel(y) * step_size \n",
    "        \n",
    "        if fire_rate is None:\n",
    "            fire_rate = self.fire_rate\n",
    "        update_mask = (torch.rand(x[:, :1, :, :].shape) <= fire_rate).type(torch.FloatTensor).cuda()\n",
    "        x = x + dx * update_mask\n",
    "        \n",
    "        post_life_mask = self.get_living_mask(x)\n",
    "        life_mask = (pre_life_mask & post_life_mask).type(torch.FloatTensor).cuda()\n",
    "        \n",
    "        x = x * life_mask\n",
    " \n",
    "        return x\n",
    "\n",
    "def to_rgba(x):\n",
    "    return x[:, :4, :, :]\n",
    "\n",
    "def to_alpha(x):\n",
    "    return np.clip(x[:, 3:4, :, :], 0.0, 1.0)\n",
    "\n",
    "def to_rgb(x):\n",
    "    # assume rgb premultiplied by alpha\n",
    "    rgb, a = x[:, :3, :, :], to_alpha(x)\n",
    "    return 1.0-a+rgb\n",
    "\n",
    "def load_image(fname, max_size=TARGET_SIZE):\n",
    "    img = Image.open(fname)\n",
    "    img.thumbnail((max_size, max_size), Image.ANTIALIAS)\n",
    "    img = np.float32(img)/255.0\n",
    "    # premultiply RGB by Alpha\n",
    "    img[..., :3] *= img[..., 3:]\n",
    "    return img"
   ]
  },
  {
   "cell_type": "code",
   "execution_count": 18,
   "metadata": {},
   "outputs": [],
   "source": [
    "class Embedder(nn.Module):\n",
    "    def __init__(self):\n",
    "        super().__init__()\n",
    "        \n",
    "        self.c1 = nn.Conv2d(4, 32, EMBED_KERNEL, padding=EMBED_KERNEL-1, padding_mode='circular')\n",
    "        self.c2 = nn.Conv2d(32, 32, EMBED_KERNEL, padding=EMBED_KERNEL-1, padding_mode='circular')\n",
    "        mp_kernel = 5  # SIZE / (mp_kernel*2) / mp_kernal = 1\n",
    "        self.mp1 = nn.MaxPool2d(2*mp_kernel, stride=2*mp_kernel)\n",
    "        \n",
    "        self.c3 = nn.Conv2d(32, 32, EMBED_KERNEL, padding=EMBED_KERNEL-1, padding_mode='circular')\n",
    "        self.c4 = nn.Conv2d(32, 8, EMBED_KERNEL, padding=EMBED_KERNEL-1, padding_mode='circular')\n",
    "        self.mp2 = nn.MaxPool2d(mp_kernel, stride=mp_kernel)\n",
    "        \n",
    "        # average pooling\n",
    "        \n",
    "    def forward(self, x):\n",
    "        z = F.leaky_relu(self.c1(x))\n",
    "        z = F.leaky_relu(self.c2(z))\n",
    "        z = self.mp1(z)\n",
    "        \n",
    "        z = F.leaky_relu(self.c3(z))\n",
    "        z = self.c4(z)\n",
    "        z = self.mp2(z)\n",
    "        \n",
    "        return z"
   ]
  },
  {
   "cell_type": "code",
   "execution_count": 5,
   "metadata": {},
   "outputs": [],
   "source": [
    "SIZE = 50\n",
    "\n",
    "x = torch.cuda.FloatTensor(np.random.standard_normal(size=(CHANNEL_N, SIZE, SIZE))).unsqueeze(0) > 3\n",
    "x = x.type(torch.cuda.FloatTensor)"
   ]
  },
  {
   "cell_type": "code",
   "execution_count": 20,
   "metadata": {},
   "outputs": [],
   "source": [
    "embed = Embedder().cuda()"
   ]
  },
  {
   "cell_type": "code",
   "execution_count": 21,
   "metadata": {},
   "outputs": [
    {
     "data": {
      "text/plain": [
       "torch.Size([1, 8, 1, 1])"
      ]
     },
     "execution_count": 21,
     "metadata": {},
     "output_type": "execute_result"
    }
   ],
   "source": [
    "embed(x[:, 0:4, :, :]).shape"
   ]
  },
  {
   "cell_type": "markdown",
   "metadata": {
    "Collapsed": "false"
   },
   "source": [
    "# Run for fun (remove zero weight initialization on final layer)"
   ]
  },
  {
   "cell_type": "code",
   "execution_count": 134,
   "metadata": {
    "Collapsed": "false"
   },
   "outputs": [],
   "source": [
    "CA_run = CAModel()\n",
    "\n",
    "if torch.cuda.is_available():\n",
    "    CA_run.cuda()"
   ]
  },
  {
   "cell_type": "code",
   "execution_count": 7,
   "metadata": {
    "Collapsed": "false"
   },
   "outputs": [
    {
     "name": "stdout",
     "output_type": "stream",
     "text": [
      "0\n"
     ]
    },
    {
     "data": {
      "image/png": "[encoded data removed]",
      "text/plain": [
       "<Figure size 576x576 with 1 Axes>"
      ]
     },
     "metadata": {},
     "output_type": "display_data"
    },
    {
     "ename": "KeyboardInterrupt",
     "evalue": "",
     "output_type": "error",
     "traceback": [
      "\u001b[1;31m---------------------------------------------------------------------------\u001b[0m",
      "\u001b[1;31mKeyboardInterrupt\u001b[0m                         Traceback (most recent call last)",
      "\u001b[1;32m<ipython-input-7-1939d92740a0>\u001b[0m in \u001b[0;36m<module>\u001b[1;34m\u001b[0m\n\u001b[0;32m     28\u001b[0m         \u001b[0mtime\u001b[0m\u001b[1;33m.\u001b[0m\u001b[0msleep\u001b[0m\u001b[1;33m(\u001b[0m\u001b[1;36m0.01\u001b[0m\u001b[1;33m)\u001b[0m\u001b[1;33m\u001b[0m\u001b[1;33m\u001b[0m\u001b[0m\n\u001b[0;32m     29\u001b[0m \u001b[1;33m\u001b[0m\u001b[0m\n\u001b[1;32m---> 30\u001b[1;33m     \u001b[0mx\u001b[0m \u001b[1;33m=\u001b[0m \u001b[0mtorch\u001b[0m\u001b[1;33m.\u001b[0m\u001b[0mtanh\u001b[0m\u001b[1;33m(\u001b[0m\u001b[0mCA_run\u001b[0m\u001b[1;33m.\u001b[0m\u001b[0mforward\u001b[0m\u001b[1;33m(\u001b[0m\u001b[0mx\u001b[0m\u001b[1;33m,\u001b[0m \u001b[0mstep_size\u001b[0m\u001b[1;33m=\u001b[0m\u001b[1;36m1\u001b[0m\u001b[1;33m,\u001b[0m \u001b[0mfire_rate\u001b[0m\u001b[1;33m=\u001b[0m\u001b[1;36m1\u001b[0m\u001b[1;33m)\u001b[0m\u001b[1;33m)\u001b[0m\u001b[1;33m\u001b[0m\u001b[1;33m\u001b[0m\u001b[0m\n\u001b[0m\u001b[0;32m     31\u001b[0m     \u001b[0mx\u001b[0m \u001b[1;33m=\u001b[0m \u001b[0mx\u001b[0m\u001b[1;33m.\u001b[0m\u001b[0mdetach\u001b[0m\u001b[1;33m(\u001b[0m\u001b[1;33m)\u001b[0m\u001b[1;33m\u001b[0m\u001b[1;33m\u001b[0m\u001b[0m\n\u001b[0;32m     32\u001b[0m \u001b[1;33m\u001b[0m\u001b[0m\n",
      "\u001b[1;32m<ipython-input-3-670a901b1ffa>\u001b[0m in \u001b[0;36mforward\u001b[1;34m(self, x, fire_rate, step_size)\u001b[0m\n\u001b[0;32m    110\u001b[0m \u001b[1;33m\u001b[0m\u001b[0m\n\u001b[0;32m    111\u001b[0m         \u001b[0my\u001b[0m \u001b[1;33m=\u001b[0m \u001b[0mself\u001b[0m\u001b[1;33m.\u001b[0m\u001b[0mperceive\u001b[0m\u001b[1;33m(\u001b[0m\u001b[0mx\u001b[0m\u001b[1;33m)\u001b[0m\u001b[1;33m\u001b[0m\u001b[1;33m\u001b[0m\u001b[0m\n\u001b[1;32m--> 112\u001b[1;33m         \u001b[0mdx\u001b[0m \u001b[1;33m=\u001b[0m \u001b[0mself\u001b[0m\u001b[1;33m.\u001b[0m\u001b[0mdmodel\u001b[0m\u001b[1;33m(\u001b[0m\u001b[0my\u001b[0m\u001b[1;33m)\u001b[0m \u001b[1;33m*\u001b[0m \u001b[0mstep_size\u001b[0m\u001b[1;33m\u001b[0m\u001b[1;33m\u001b[0m\u001b[0m\n\u001b[0m\u001b[0;32m    113\u001b[0m \u001b[1;33m\u001b[0m\u001b[0m\n\u001b[0;32m    114\u001b[0m         \u001b[1;32mif\u001b[0m \u001b[0mfire_rate\u001b[0m \u001b[1;32mis\u001b[0m \u001b[1;32mNone\u001b[0m\u001b[1;33m:\u001b[0m\u001b[1;33m\u001b[0m\u001b[1;33m\u001b[0m\u001b[0m\n",
      "\u001b[1;32mD:\\Anaconda\\envs\\NN_CA\\lib\\site-packages\\torch\\nn\\modules\\module.py\u001b[0m in \u001b[0;36m__call__\u001b[1;34m(self, *input, **kwargs)\u001b[0m\n\u001b[0;32m    545\u001b[0m             \u001b[0mresult\u001b[0m \u001b[1;33m=\u001b[0m \u001b[0mself\u001b[0m\u001b[1;33m.\u001b[0m\u001b[0m_slow_forward\u001b[0m\u001b[1;33m(\u001b[0m\u001b[1;33m*\u001b[0m\u001b[0minput\u001b[0m\u001b[1;33m,\u001b[0m \u001b[1;33m**\u001b[0m\u001b[0mkwargs\u001b[0m\u001b[1;33m)\u001b[0m\u001b[1;33m\u001b[0m\u001b[1;33m\u001b[0m\u001b[0m\n\u001b[0;32m    546\u001b[0m         \u001b[1;32melse\u001b[0m\u001b[1;33m:\u001b[0m\u001b[1;33m\u001b[0m\u001b[1;33m\u001b[0m\u001b[0m\n\u001b[1;32m--> 547\u001b[1;33m             \u001b[0mresult\u001b[0m \u001b[1;33m=\u001b[0m \u001b[0mself\u001b[0m\u001b[1;33m.\u001b[0m\u001b[0mforward\u001b[0m\u001b[1;33m(\u001b[0m\u001b[1;33m*\u001b[0m\u001b[0minput\u001b[0m\u001b[1;33m,\u001b[0m \u001b[1;33m**\u001b[0m\u001b[0mkwargs\u001b[0m\u001b[1;33m)\u001b[0m\u001b[1;33m\u001b[0m\u001b[1;33m\u001b[0m\u001b[0m\n\u001b[0m\u001b[0;32m    548\u001b[0m         \u001b[1;32mfor\u001b[0m \u001b[0mhook\u001b[0m \u001b[1;32min\u001b[0m \u001b[0mself\u001b[0m\u001b[1;33m.\u001b[0m\u001b[0m_forward_hooks\u001b[0m\u001b[1;33m.\u001b[0m\u001b[0mvalues\u001b[0m\u001b[1;33m(\u001b[0m\u001b[1;33m)\u001b[0m\u001b[1;33m:\u001b[0m\u001b[1;33m\u001b[0m\u001b[1;33m\u001b[0m\u001b[0m\n\u001b[0;32m    549\u001b[0m             \u001b[0mhook_result\u001b[0m \u001b[1;33m=\u001b[0m \u001b[0mhook\u001b[0m\u001b[1;33m(\u001b[0m\u001b[0mself\u001b[0m\u001b[1;33m,\u001b[0m \u001b[0minput\u001b[0m\u001b[1;33m,\u001b[0m \u001b[0mresult\u001b[0m\u001b[1;33m)\u001b[0m\u001b[1;33m\u001b[0m\u001b[1;33m\u001b[0m\u001b[0m\n",
      "\u001b[1;32mD:\\Anaconda\\envs\\NN_CA\\lib\\site-packages\\torch\\nn\\modules\\container.py\u001b[0m in \u001b[0;36mforward\u001b[1;34m(self, input)\u001b[0m\n\u001b[0;32m     90\u001b[0m     \u001b[1;32mdef\u001b[0m \u001b[0mforward\u001b[0m\u001b[1;33m(\u001b[0m\u001b[0mself\u001b[0m\u001b[1;33m,\u001b[0m \u001b[0minput\u001b[0m\u001b[1;33m)\u001b[0m\u001b[1;33m:\u001b[0m\u001b[1;33m\u001b[0m\u001b[1;33m\u001b[0m\u001b[0m\n\u001b[0;32m     91\u001b[0m         \u001b[1;32mfor\u001b[0m \u001b[0mmodule\u001b[0m \u001b[1;32min\u001b[0m \u001b[0mself\u001b[0m\u001b[1;33m.\u001b[0m\u001b[0m_modules\u001b[0m\u001b[1;33m.\u001b[0m\u001b[0mvalues\u001b[0m\u001b[1;33m(\u001b[0m\u001b[1;33m)\u001b[0m\u001b[1;33m:\u001b[0m\u001b[1;33m\u001b[0m\u001b[1;33m\u001b[0m\u001b[0m\n\u001b[1;32m---> 92\u001b[1;33m             \u001b[0minput\u001b[0m \u001b[1;33m=\u001b[0m \u001b[0mmodule\u001b[0m\u001b[1;33m(\u001b[0m\u001b[0minput\u001b[0m\u001b[1;33m)\u001b[0m\u001b[1;33m\u001b[0m\u001b[1;33m\u001b[0m\u001b[0m\n\u001b[0m\u001b[0;32m     93\u001b[0m         \u001b[1;32mreturn\u001b[0m \u001b[0minput\u001b[0m\u001b[1;33m\u001b[0m\u001b[1;33m\u001b[0m\u001b[0m\n\u001b[0;32m     94\u001b[0m \u001b[1;33m\u001b[0m\u001b[0m\n",
      "\u001b[1;32mD:\\Anaconda\\envs\\NN_CA\\lib\\site-packages\\torch\\nn\\modules\\module.py\u001b[0m in \u001b[0;36m__call__\u001b[1;34m(self, *input, **kwargs)\u001b[0m\n\u001b[0;32m    545\u001b[0m             \u001b[0mresult\u001b[0m \u001b[1;33m=\u001b[0m \u001b[0mself\u001b[0m\u001b[1;33m.\u001b[0m\u001b[0m_slow_forward\u001b[0m\u001b[1;33m(\u001b[0m\u001b[1;33m*\u001b[0m\u001b[0minput\u001b[0m\u001b[1;33m,\u001b[0m \u001b[1;33m**\u001b[0m\u001b[0mkwargs\u001b[0m\u001b[1;33m)\u001b[0m\u001b[1;33m\u001b[0m\u001b[1;33m\u001b[0m\u001b[0m\n\u001b[0;32m    546\u001b[0m         \u001b[1;32melse\u001b[0m\u001b[1;33m:\u001b[0m\u001b[1;33m\u001b[0m\u001b[1;33m\u001b[0m\u001b[0m\n\u001b[1;32m--> 547\u001b[1;33m             \u001b[0mresult\u001b[0m \u001b[1;33m=\u001b[0m \u001b[0mself\u001b[0m\u001b[1;33m.\u001b[0m\u001b[0mforward\u001b[0m\u001b[1;33m(\u001b[0m\u001b[1;33m*\u001b[0m\u001b[0minput\u001b[0m\u001b[1;33m,\u001b[0m \u001b[1;33m**\u001b[0m\u001b[0mkwargs\u001b[0m\u001b[1;33m)\u001b[0m\u001b[1;33m\u001b[0m\u001b[1;33m\u001b[0m\u001b[0m\n\u001b[0m\u001b[0;32m    548\u001b[0m         \u001b[1;32mfor\u001b[0m \u001b[0mhook\u001b[0m \u001b[1;32min\u001b[0m \u001b[0mself\u001b[0m\u001b[1;33m.\u001b[0m\u001b[0m_forward_hooks\u001b[0m\u001b[1;33m.\u001b[0m\u001b[0mvalues\u001b[0m\u001b[1;33m(\u001b[0m\u001b[1;33m)\u001b[0m\u001b[1;33m:\u001b[0m\u001b[1;33m\u001b[0m\u001b[1;33m\u001b[0m\u001b[0m\n\u001b[0;32m    549\u001b[0m             \u001b[0mhook_result\u001b[0m \u001b[1;33m=\u001b[0m \u001b[0mhook\u001b[0m\u001b[1;33m(\u001b[0m\u001b[0mself\u001b[0m\u001b[1;33m,\u001b[0m \u001b[0minput\u001b[0m\u001b[1;33m,\u001b[0m \u001b[0mresult\u001b[0m\u001b[1;33m)\u001b[0m\u001b[1;33m\u001b[0m\u001b[1;33m\u001b[0m\u001b[0m\n",
      "\u001b[1;32mD:\\Anaconda\\envs\\NN_CA\\lib\\site-packages\\torch\\nn\\modules\\conv.py\u001b[0m in \u001b[0;36mforward\u001b[1;34m(self, input)\u001b[0m\n\u001b[0;32m    341\u001b[0m \u001b[1;33m\u001b[0m\u001b[0m\n\u001b[0;32m    342\u001b[0m     \u001b[1;32mdef\u001b[0m \u001b[0mforward\u001b[0m\u001b[1;33m(\u001b[0m\u001b[0mself\u001b[0m\u001b[1;33m,\u001b[0m \u001b[0minput\u001b[0m\u001b[1;33m)\u001b[0m\u001b[1;33m:\u001b[0m\u001b[1;33m\u001b[0m\u001b[1;33m\u001b[0m\u001b[0m\n\u001b[1;32m--> 343\u001b[1;33m         \u001b[1;32mreturn\u001b[0m \u001b[0mself\u001b[0m\u001b[1;33m.\u001b[0m\u001b[0mconv2d_forward\u001b[0m\u001b[1;33m(\u001b[0m\u001b[0minput\u001b[0m\u001b[1;33m,\u001b[0m \u001b[0mself\u001b[0m\u001b[1;33m.\u001b[0m\u001b[0mweight\u001b[0m\u001b[1;33m)\u001b[0m\u001b[1;33m\u001b[0m\u001b[1;33m\u001b[0m\u001b[0m\n\u001b[0m\u001b[0;32m    344\u001b[0m \u001b[1;33m\u001b[0m\u001b[0m\n\u001b[0;32m    345\u001b[0m \u001b[1;32mclass\u001b[0m \u001b[0mConv3d\u001b[0m\u001b[1;33m(\u001b[0m\u001b[0m_ConvNd\u001b[0m\u001b[1;33m)\u001b[0m\u001b[1;33m:\u001b[0m\u001b[1;33m\u001b[0m\u001b[1;33m\u001b[0m\u001b[0m\n",
      "\u001b[1;32mD:\\Anaconda\\envs\\NN_CA\\lib\\site-packages\\torch\\nn\\modules\\conv.py\u001b[0m in \u001b[0;36mconv2d_forward\u001b[1;34m(self, input, weight)\u001b[0m\n\u001b[0;32m    336\u001b[0m             return F.conv2d(F.pad(input, expanded_padding, mode='circular'),\n\u001b[0;32m    337\u001b[0m                             \u001b[0mweight\u001b[0m\u001b[1;33m,\u001b[0m \u001b[0mself\u001b[0m\u001b[1;33m.\u001b[0m\u001b[0mbias\u001b[0m\u001b[1;33m,\u001b[0m \u001b[0mself\u001b[0m\u001b[1;33m.\u001b[0m\u001b[0mstride\u001b[0m\u001b[1;33m,\u001b[0m\u001b[1;33m\u001b[0m\u001b[1;33m\u001b[0m\u001b[0m\n\u001b[1;32m--> 338\u001b[1;33m                             _pair(0), self.dilation, self.groups)\n\u001b[0m\u001b[0;32m    339\u001b[0m         return F.conv2d(input, weight, self.bias, self.stride,\n\u001b[0;32m    340\u001b[0m                         self.padding, self.dilation, self.groups)\n",
      "\u001b[1;31mKeyboardInterrupt\u001b[0m: "
     ]
    },
    {
     "data": {
      "image/png": "[encoded data removed]",
      "text/plain": [
       "<Figure size 576x576 with 1 Axes>"
      ]
     },
     "metadata": {
      "needs_background": "light"
     },
     "output_type": "display_data"
    }
   ],
   "source": [
    "SIZE = 257\n",
    "\n",
    "x = torch.cuda.FloatTensor(np.random.standard_normal(size=(CHANNEL_N, SIZE, SIZE))).unsqueeze(0) > 3\n",
    "x = x.type(torch.cuda.FloatTensor)\n",
    "# x = torch.cuda.FloatTensor(np.zeros((CHANNEL_N, SIZE, SIZE))).unsqueeze(0)\n",
    "# x[:, 3:, SIZE//2, SIZE//2] = 1\n",
    "# x[:, 3:, 256//3 : 2*256//3, 256//3 : 2*256//3] = 1\n",
    "\n",
    "# x[:, 3:, SIZE//3, SIZE//3] = 1\n",
    "# x[:, 3:, 2*SIZE//3, 2*SIZE//3] = 1\n",
    "\n",
    "imgs = []\n",
    "\n",
    "timeSteps = 500\n",
    "for i in range(timeSteps):\n",
    "#     print(i, stop)\n",
    "    nx = x.cpu().numpy()[0, 0:4, :, :].transpose(1, 2, 0)\n",
    "    nx = rgba2rgb(nx)\n",
    "    imgs.append(nx)\n",
    "    \n",
    "    if i%50 == 0:\n",
    "        plt.clf()\n",
    "        plt.imshow(nx)\n",
    "        plt.gcf().set_size_inches((8,8))\n",
    "        clear_output(wait=True)\n",
    "        print(f'{i}')\n",
    "        display(plt.gcf())\n",
    "        time.sleep(0.01)\n",
    "\n",
    "    x = torch.tanh(CA_run.forward(x, step_size=1, fire_rate=1))\n",
    "    x = x.detach()\n",
    "    \n",
    "\n",
    "fname = time.strftime(\"%Y%m%d-%H%M%S\")\n",
    "out = cv2.VideoWriter(f'CA-{fname}.avi',cv2.VideoWriter_fourcc(*'DIVX'), 60, (SIZE, SIZE), 3)\n",
    "\n",
    "for img in imgs:\n",
    "    img = np.uint8(cv2.cvtColor(img, cv2.COLOR_RGB2BGR)*255.0)\n",
    "    out.write(img)\n",
    "out.release()"
   ]
  },
  {
   "cell_type": "code",
   "execution_count": 363,
   "metadata": {},
   "outputs": [],
   "source": [
    "fname = time.strftime(\"%Y%m%d-%H%M%S\")\n",
    "out = cv2.VideoWriter(f'CA-{fname}.avi',cv2.VideoWriter_fourcc(*'DIVX'), 150, (SIZE, SIZE), 3)\n",
    "\n",
    "for img in imgs:\n",
    "    img = np.uint8(cv2.cvtColor(img, cv2.COLOR_RGB2BGR)*255.0)\n",
    "    out.write(img)\n",
    "out.release()"
   ]
  },
  {
   "cell_type": "markdown",
   "metadata": {
    "Collapsed": "true"
   },
   "source": [
    "# Train"
   ]
  },
  {
   "cell_type": "code",
   "execution_count": 42,
   "metadata": {
    "Collapsed": "false"
   },
   "outputs": [],
   "source": [
    "seed = 10000\n",
    "np.random.seed(seed)\n",
    "torch.manual_seed(seed)\n",
    "\n",
    "NUM_POP = 15\n",
    "\n",
    "CA_orig = CAModel()\n",
    "\n",
    "CAs = [CA_orig]\n",
    "for i in range(NUM_POP - 1):\n",
    "    CAs.append(copy.deepcopy(CA_orig))\n",
    "\n",
    "CA = CAModel()\n",
    "embed = Embedder().cuda()\n",
    "if torch.cuda.is_available():\n",
    "    for CA in CAs:\n",
    "        CA.cuda()\n",
    "        \n",
    "    embed.cuda()"
   ]
  },
  {
   "cell_type": "code",
   "execution_count": 43,
   "metadata": {
    "Collapsed": "false"
   },
   "outputs": [],
   "source": [
    "optim_emb = torch.optim.Adam([p for p in embed.parameters()], lr=1e-3)\n",
    "Optims_CAs = [torch.optim.Adam([p for p in CA.parameters()], lr=1e-3) for CA in CAs]"
   ]
  },
  {
   "cell_type": "code",
   "execution_count": 45,
   "metadata": {
    "Collapsed": "false",
    "scrolled": false
   },
   "outputs": [
    {
     "data": {
      "image/png": "[encoded data removed]",
      "text/plain": [
       "<Figure size 864x432 with 3 Axes>"
      ]
     },
     "metadata": {
      "needs_background": "light"
     },
     "output_type": "display_data"
    },
    {
     "data": {
      "image/png": "[encoded data removed]",
      "text/plain": [
       "<Figure size 864x432 with 3 Axes>"
      ]
     },
     "metadata": {
      "needs_background": "light"
     },
     "output_type": "display_data"
    },
    {
     "data": {
      "image/png": "[encoded data removed]",
      "text/plain": [
       "<Figure size 864x432 with 3 Axes>"
      ]
     },
     "metadata": {
      "needs_background": "light"
     },
     "output_type": "display_data"
    },
    {
     "data": {
      "image/png": "[encoded data removed]",
      "text/plain": [
       "<Figure size 864x432 with 3 Axes>"
      ]
     },
     "metadata": {
      "needs_background": "light"
     },
     "output_type": "display_data"
    },
    {
     "data": {
      "image/png": "[encoded data removed]",
      "text/plain": [
       "<Figure size 864x432 with 3 Axes>"
      ]
     },
     "metadata": {
      "needs_background": "light"
     },
     "output_type": "display_data"
    },
    {
     "ename": "KeyboardInterrupt",
     "evalue": "",
     "output_type": "error",
     "traceback": [
      "\u001b[1;31m---------------------------------------------------------------------------\u001b[0m",
      "\u001b[1;31mKeyboardInterrupt\u001b[0m                         Traceback (most recent call last)",
      "\u001b[1;32m<ipython-input-45-700bd7c99f2d>\u001b[0m in \u001b[0;36m<module>\u001b[1;34m\u001b[0m\n\u001b[0;32m     57\u001b[0m                 \u001b[0mx_A1\u001b[0m \u001b[1;33m=\u001b[0m \u001b[0mtorch\u001b[0m\u001b[1;33m.\u001b[0m\u001b[0mtanh\u001b[0m\u001b[1;33m(\u001b[0m\u001b[0mCA_A\u001b[0m\u001b[1;33m.\u001b[0m\u001b[0mforward\u001b[0m\u001b[1;33m(\u001b[0m\u001b[0mx_A1\u001b[0m\u001b[1;33m,\u001b[0m \u001b[0mstep_size\u001b[0m\u001b[1;33m=\u001b[0m\u001b[0mstep_size\u001b[0m\u001b[1;33m,\u001b[0m \u001b[0mfire_rate\u001b[0m\u001b[1;33m=\u001b[0m\u001b[0mfire_rate\u001b[0m\u001b[1;33m)\u001b[0m\u001b[1;33m)\u001b[0m\u001b[1;33m\u001b[0m\u001b[1;33m\u001b[0m\u001b[0m\n\u001b[0;32m     58\u001b[0m                 \u001b[0mx_A2\u001b[0m \u001b[1;33m=\u001b[0m \u001b[0mtorch\u001b[0m\u001b[1;33m.\u001b[0m\u001b[0mtanh\u001b[0m\u001b[1;33m(\u001b[0m\u001b[0mCA_A\u001b[0m\u001b[1;33m.\u001b[0m\u001b[0mforward\u001b[0m\u001b[1;33m(\u001b[0m\u001b[0mx_A2\u001b[0m\u001b[1;33m,\u001b[0m \u001b[0mstep_size\u001b[0m\u001b[1;33m=\u001b[0m\u001b[0mstep_size\u001b[0m\u001b[1;33m,\u001b[0m \u001b[0mfire_rate\u001b[0m\u001b[1;33m=\u001b[0m\u001b[0mfire_rate\u001b[0m\u001b[1;33m)\u001b[0m\u001b[1;33m)\u001b[0m\u001b[1;33m\u001b[0m\u001b[1;33m\u001b[0m\u001b[0m\n\u001b[1;32m---> 59\u001b[1;33m                 \u001b[0mx_B\u001b[0m \u001b[1;33m=\u001b[0m \u001b[0mtorch\u001b[0m\u001b[1;33m.\u001b[0m\u001b[0mtanh\u001b[0m\u001b[1;33m(\u001b[0m\u001b[0mCA_B\u001b[0m\u001b[1;33m.\u001b[0m\u001b[0mforward\u001b[0m\u001b[1;33m(\u001b[0m\u001b[0mx_B\u001b[0m\u001b[1;33m,\u001b[0m \u001b[0mstep_size\u001b[0m\u001b[1;33m=\u001b[0m\u001b[0mstep_size\u001b[0m\u001b[1;33m,\u001b[0m \u001b[0mfire_rate\u001b[0m\u001b[1;33m=\u001b[0m\u001b[0mfire_rate\u001b[0m\u001b[1;33m)\u001b[0m\u001b[1;33m)\u001b[0m\u001b[1;33m\u001b[0m\u001b[1;33m\u001b[0m\u001b[0m\n\u001b[0m\u001b[0;32m     60\u001b[0m \u001b[1;33m\u001b[0m\u001b[0m\n\u001b[0;32m     61\u001b[0m                 \u001b[1;32mif\u001b[0m \u001b[0mii\u001b[0m\u001b[1;33m%\u001b[0m\u001b[1;36m5\u001b[0m\u001b[1;33m==\u001b[0m\u001b[1;36m0\u001b[0m\u001b[1;33m:\u001b[0m\u001b[1;33m\u001b[0m\u001b[1;33m\u001b[0m\u001b[0m\n",
      "\u001b[1;32m<ipython-input-3-b1ed6fe23be9>\u001b[0m in \u001b[0;36mforward\u001b[1;34m(self, x, fire_rate, step_size)\u001b[0m\n\u001b[0;32m    120\u001b[0m         \u001b[0mx\u001b[0m \u001b[1;33m=\u001b[0m \u001b[0mx\u001b[0m \u001b[1;33m+\u001b[0m \u001b[0mdx\u001b[0m \u001b[1;33m*\u001b[0m \u001b[0mupdate_mask\u001b[0m\u001b[1;33m\u001b[0m\u001b[1;33m\u001b[0m\u001b[0m\n\u001b[0;32m    121\u001b[0m \u001b[1;33m\u001b[0m\u001b[0m\n\u001b[1;32m--> 122\u001b[1;33m         \u001b[0mpost_life_mask\u001b[0m \u001b[1;33m=\u001b[0m \u001b[0mself\u001b[0m\u001b[1;33m.\u001b[0m\u001b[0mget_living_mask\u001b[0m\u001b[1;33m(\u001b[0m\u001b[0mx\u001b[0m\u001b[1;33m)\u001b[0m\u001b[1;33m\u001b[0m\u001b[1;33m\u001b[0m\u001b[0m\n\u001b[0m\u001b[0;32m    123\u001b[0m         \u001b[0mlife_mask\u001b[0m \u001b[1;33m=\u001b[0m \u001b[1;33m(\u001b[0m\u001b[0mpre_life_mask\u001b[0m \u001b[1;33m&\u001b[0m \u001b[0mpost_life_mask\u001b[0m\u001b[1;33m)\u001b[0m\u001b[1;33m.\u001b[0m\u001b[0mtype\u001b[0m\u001b[1;33m(\u001b[0m\u001b[0mtorch\u001b[0m\u001b[1;33m.\u001b[0m\u001b[0mFloatTensor\u001b[0m\u001b[1;33m)\u001b[0m\u001b[1;33m.\u001b[0m\u001b[0mcuda\u001b[0m\u001b[1;33m(\u001b[0m\u001b[1;33m)\u001b[0m\u001b[1;33m\u001b[0m\u001b[1;33m\u001b[0m\u001b[0m\n\u001b[0;32m    124\u001b[0m \u001b[1;33m\u001b[0m\u001b[0m\n",
      "\u001b[1;32m<ipython-input-3-b1ed6fe23be9>\u001b[0m in \u001b[0;36mget_living_mask\u001b[1;34m(self, x)\u001b[0m\n\u001b[0;32m    104\u001b[0m         \u001b[0malive_mask\u001b[0m \u001b[1;33m=\u001b[0m \u001b[0malive_mask\u001b[0m\u001b[1;33m[\u001b[0m\u001b[1;33m:\u001b[0m\u001b[1;33m,\u001b[0m \u001b[1;33m:\u001b[0m\u001b[1;33m,\u001b[0m \u001b[0mself\u001b[0m\u001b[1;33m.\u001b[0m\u001b[0mr\u001b[0m\u001b[1;33m:\u001b[0m\u001b[1;33m-\u001b[0m\u001b[0mself\u001b[0m\u001b[1;33m.\u001b[0m\u001b[0mr\u001b[0m\u001b[1;33m,\u001b[0m \u001b[0mself\u001b[0m\u001b[1;33m.\u001b[0m\u001b[0mr\u001b[0m\u001b[1;33m:\u001b[0m\u001b[1;33m-\u001b[0m\u001b[0mself\u001b[0m\u001b[1;33m.\u001b[0m\u001b[0mr\u001b[0m\u001b[1;33m]\u001b[0m\u001b[1;33m\u001b[0m\u001b[1;33m\u001b[0m\u001b[0m\n\u001b[0;32m    105\u001b[0m \u001b[1;33m\u001b[0m\u001b[0m\n\u001b[1;32m--> 106\u001b[1;33m         \u001b[0mdeath_mask\u001b[0m \u001b[1;33m=\u001b[0m \u001b[0mF\u001b[0m\u001b[1;33m.\u001b[0m\u001b[0mavg_pool2d\u001b[0m\u001b[1;33m(\u001b[0m\u001b[0malpha_channel\u001b[0m\u001b[1;33m,\u001b[0m \u001b[0mkernel_size\u001b[0m\u001b[1;33m=\u001b[0m\u001b[1;36m2\u001b[0m\u001b[1;33m*\u001b[0m\u001b[0mself\u001b[0m\u001b[1;33m.\u001b[0m\u001b[0mr\u001b[0m\u001b[1;33m+\u001b[0m\u001b[1;36m1\u001b[0m\u001b[1;33m,\u001b[0m \u001b[0mstride\u001b[0m\u001b[1;33m=\u001b[0m\u001b[1;36m1\u001b[0m\u001b[1;33m,\u001b[0m \u001b[0mpadding\u001b[0m\u001b[1;33m=\u001b[0m\u001b[0mself\u001b[0m\u001b[1;33m.\u001b[0m\u001b[0mr\u001b[0m\u001b[1;33m)\u001b[0m \u001b[1;33m<\u001b[0m \u001b[1;36m0.2\u001b[0m\u001b[1;33m\u001b[0m\u001b[1;33m\u001b[0m\u001b[0m\n\u001b[0m\u001b[0;32m    107\u001b[0m         \u001b[0mdeath_mask\u001b[0m \u001b[1;33m=\u001b[0m \u001b[0mdeath_mask\u001b[0m\u001b[1;33m[\u001b[0m\u001b[1;33m:\u001b[0m\u001b[1;33m,\u001b[0m \u001b[1;33m:\u001b[0m\u001b[1;33m,\u001b[0m \u001b[0mself\u001b[0m\u001b[1;33m.\u001b[0m\u001b[0mr\u001b[0m\u001b[1;33m:\u001b[0m\u001b[1;33m-\u001b[0m\u001b[0mself\u001b[0m\u001b[1;33m.\u001b[0m\u001b[0mr\u001b[0m\u001b[1;33m,\u001b[0m \u001b[0mself\u001b[0m\u001b[1;33m.\u001b[0m\u001b[0mr\u001b[0m\u001b[1;33m:\u001b[0m\u001b[1;33m-\u001b[0m\u001b[0mself\u001b[0m\u001b[1;33m.\u001b[0m\u001b[0mr\u001b[0m\u001b[1;33m]\u001b[0m\u001b[1;33m\u001b[0m\u001b[1;33m\u001b[0m\u001b[0m\n\u001b[0;32m    108\u001b[0m         \u001b[1;32mreturn\u001b[0m \u001b[0malive_mask\u001b[0m\u001b[1;33m.\u001b[0m\u001b[0mcuda\u001b[0m\u001b[1;33m(\u001b[0m\u001b[1;33m)\u001b[0m \u001b[1;33m&\u001b[0m \u001b[0mdeath_mask\u001b[0m\u001b[1;33m.\u001b[0m\u001b[0mcuda\u001b[0m\u001b[1;33m(\u001b[0m\u001b[1;33m)\u001b[0m\u001b[1;33m\u001b[0m\u001b[1;33m\u001b[0m\u001b[0m\n",
      "\u001b[1;31mKeyboardInterrupt\u001b[0m: "
     ]
    }
   ],
   "source": [
    "res = 50\n",
    "step_size = 1\n",
    "fire_rate = 1\n",
    "\n",
    "emb_loss = []\n",
    "tloss = nn.TripletMarginLoss()\n",
    "epochs = 100\n",
    "\n",
    "index_list = np.arange(len(CAs))\n",
    "\n",
    "for epoch in tqdm(range(epochs)):\n",
    "    \n",
    "    clear_output(wait=True)\n",
    "    \n",
    "    optim_emb.zero_grad()\n",
    "    for optim_CA in Optims_CAs:\n",
    "        optim_CA.zero_grad()\n",
    "    total_loss = 0\n",
    "    \n",
    "    for CA_i, CA_A in enumerate(CAs):\n",
    "        # pick random other CA\n",
    "        rand_index = np.random.permutation(index_list[index_list != CA_i])[0]\n",
    "\n",
    "        CA_B = CAs[rand_index]\n",
    "        \n",
    "        # reset IC\n",
    "        x_A1 = torch.cuda.FloatTensor(np.random.standard_normal(size=(CHANNEL_N, res, res))).unsqueeze(0)\n",
    "        x_A2 = torch.cuda.FloatTensor(np.random.standard_normal(size=(CHANNEL_N, res, res))).unsqueeze(0)\n",
    "        x_B = torch.cuda.FloatTensor(np.random.standard_normal(size=(CHANNEL_N, res, res))).unsqueeze(0)\n",
    "        \n",
    "        # single seed IC\n",
    "#         x_A1 = torch.cuda.FloatTensor(np.zeros((CHANNEL_N, res, res))).unsqueeze(0)\n",
    "#         x_A1[:, 3:, res//2, res//2] = 1\n",
    "        \n",
    "#         x_A2 = torch.cuda.FloatTensor(np.zeros((CHANNEL_N, res, res))).unsqueeze(0)\n",
    "#         x_A2[:, 3:, res//2, res//2] = 1\n",
    "        \n",
    "#         x_B = torch.cuda.FloatTensor(np.zeros((CHANNEL_N, res, res))).unsqueeze(0)\n",
    "#         x_B[:, 3:, res//2, res//2] = 1\n",
    "\n",
    "        # let the CAs reach some equilibrium point\n",
    "#         for ii in range(200):\n",
    "#             x_A1 = torch.tanh(CA_A.forward(x_A1, step_size=step_size, fire_rate=fire_rate)).detach()\n",
    "#             x_A2 = torch.tanh(CA_A.forward(x_A2, step_size=step_size, fire_rate=fire_rate)).detach()\n",
    "#             x_B = torch.tanh(CA_B.forward(x_B, step_size=step_size, fire_rate=fire_rate)).detach()\n",
    "    \n",
    "        \n",
    "        for jj in range(1):\n",
    "            \n",
    "            # forward, save in memory\n",
    "            z_A1 = []\n",
    "            z_A2 = []\n",
    "            z_B = []\n",
    "            \n",
    "            for ii in range(40):\n",
    "                # check gradients\n",
    "                x_A1 = torch.tanh(CA_A.forward(x_A1, step_size=step_size, fire_rate=fire_rate))\n",
    "                x_A2 = torch.tanh(CA_A.forward(x_A2, step_size=step_size, fire_rate=fire_rate))\n",
    "                x_B = torch.tanh(CA_B.forward(x_B, step_size=step_size, fire_rate=fire_rate))\n",
    "\n",
    "                if ii%5==0:\n",
    "                    # embed, calculate loss\n",
    "                    z_A1.append(embed.forward(x_A1[:, 0:4, :, :]))\n",
    "                    z_A2.append(embed.forward(x_A2[:, 0:4, :, :]))\n",
    "                    z_B.append(embed.forward(x_B[:, 0:4, :, :]))\n",
    "\n",
    "            z_A1 = torch.cat(z_A1, 0)\n",
    "            z_A2 = torch.cat(z_A2, 0)\n",
    "            z_B = torch.cat(z_B, 0)\n",
    "\n",
    "            loss = tloss(z_A1,z_A2,z_B)\n",
    "            total_loss += loss.cpu().detach().item()\n",
    "            loss.backward()\n",
    "\n",
    "            x_A1 = x_A1.detach()\n",
    "            x_A2 = x_A2.detach()\n",
    "            x_B = x_B.detach()\n",
    "            \n",
    "        ##### PLOTTING THINGS #####\n",
    "        nx_A1 = x_A1.cpu().detach().numpy()[0, 0:4, :, :].transpose(1, 2, 0)\n",
    "        nx_A1 = rgba2rgb(nx_A1)\n",
    "        nx_A1 = np.uint8(nx_A1*255.0)\n",
    "        \n",
    "        nx_A2 = x_A2.cpu().detach().numpy()[0, 0:4, :, :].transpose(1, 2, 0)\n",
    "        nx_A2 = rgba2rgb(nx_A2)\n",
    "        nx_A2 = np.uint8(nx_A2*255.0)\n",
    "        \n",
    "        nx_B = x_B.cpu().detach().numpy()[0, 0:4, :, :].transpose(1, 2, 0)\n",
    "        nx_B = rgba2rgb(nx_B)\n",
    "        nx_B = np.uint8(nx_B*255.0)\n",
    "\n",
    "        fig, axes = plt.subplots(1, 3, figsize=(12, 6))\n",
    "        \n",
    "        axes[0].imshow(nx_A1)\n",
    "        axes[0].set_title(f'{CA_i}')\n",
    "        axes[1].imshow(nx_A2)\n",
    "        axes[2].imshow(nx_B)\n",
    "        axes[2].set_title(f'{rand_index}')\n",
    "        \n",
    "        for ax in axes:\n",
    "            ax.set_axis_off()\n",
    "        \n",
    "#         fig.canvas.draw()\n",
    "        plt.show()\n",
    "        ###########################\n",
    "\n",
    "    # normalize gradients\n",
    "    for CA in CAs:\n",
    "        for p in CA.parameters():\n",
    "            if p.grad is not None:\n",
    "                p.grad = p.grad / (1e-8 + torch.norm(p.grad))\n",
    "            \n",
    "    emb_loss.append(total_loss)\n",
    "    optim_emb.step()\n",
    "    for optim_CA in Optims_CAs:\n",
    "        optim_CA.step()\n",
    "    print(f't={epoch}, loss_emb={emb_loss[-1]:.4f}')\n",
    "\n",
    "\n"
   ]
  },
  {
   "cell_type": "code",
   "execution_count": 31,
   "metadata": {},
   "outputs": [
    {
     "data": {
      "text/plain": [
       "[<matplotlib.lines.Line2D at 0x1d280336508>]"
      ]
     },
     "execution_count": 31,
     "metadata": {},
     "output_type": "execute_result"
    },
    {
     "data": {
      "image/png": "[encoded data removed]",
      "text/plain": [
       "<Figure size 432x288 with 1 Axes>"
      ]
     },
     "metadata": {
      "needs_background": "light"
     },
     "output_type": "display_data"
    }
   ],
   "source": [
    "plt.plot(emb_loss, '.-')"
   ]
  },
  {
   "cell_type": "code",
   "execution_count": 357,
   "metadata": {
    "Collapsed": "false"
   },
   "outputs": [],
   "source": [
    "for i in range(0, BATCH_SIZE):\n",
    "    ex_img = np.array(imgs)[:, i, :, :, :]\n",
    "\n",
    "    fname = time.strftime(\"%Y%m%d-%H%M%S\") + f'_{i}'\n",
    "    out = cv2.VideoWriter(f'CA-{fname}.avi',cv2.VideoWriter_fourcc(*'DIVX'), 30, (h, w), 3)\n",
    "\n",
    "    for img in ex_img[:]:\n",
    "        img = cv2.cvtColor(img, cv2.COLOR_RGB2BGR)\n",
    "        out.write(img)\n",
    "    out.release()"
   ]
  },
  {
   "cell_type": "markdown",
   "metadata": {
    "Collapsed": "false"
   },
   "source": [
    "# Run Trained Model"
   ]
  },
  {
   "cell_type": "code",
   "execution_count": 46,
   "metadata": {
    "Collapsed": "false"
   },
   "outputs": [],
   "source": [
    "CA = CAs[5]"
   ]
  },
  {
   "cell_type": "code",
   "execution_count": 55,
   "metadata": {
    "Collapsed": "false",
    "scrolled": false
   },
   "outputs": [
    {
     "name": "stdout",
     "output_type": "stream",
     "text": [
      "550\n"
     ]
    },
    {
     "data": {
      "image/png": "[encoded data removed]",
      "text/plain": [
       "<Figure size 576x576 with 1 Axes>"
      ]
     },
     "metadata": {},
     "output_type": "display_data"
    },
    {
     "data": {
      "image/png": "[encoded data removed]",
      "text/plain": [
       "<Figure size 576x576 with 1 Axes>"
      ]
     },
     "metadata": {
      "needs_background": "light"
     },
     "output_type": "display_data"
    }
   ],
   "source": [
    "SIZE = 50\n",
    "# x = torch.cuda.FloatTensor(np.random.standard_normal(size=(CHANNEL_N, SIZE, SIZE))).unsqueeze(0) \n",
    "x = torch.cuda.FloatTensor(np.zeros((CHANNEL_N, SIZE, SIZE))).unsqueeze(0)\n",
    "# x[:, 3:, SIZE//2, SIZE//2] = 1\n",
    "# x[:, 3:, SIZE//3:2*SIZE//3, SIZE//3:2*SIZE//3] = 1\n",
    "x[:, 3:, SIZE//3:2*SIZE//3, SIZE//3:2*SIZE//3] = torch.cuda.FloatTensor(np.random.standard_normal(size=(13, SIZE//3+1, SIZE//3+1))).unsqueeze(0) \n",
    "imgs = []\n",
    "\n",
    "for i in range(600):\n",
    "    \n",
    "    with torch.no_grad():\n",
    "        nx = x.cpu().numpy()[0, 0:4, :, :].transpose(1, 2, 0)\n",
    "        nx = rgba2rgb(nx)\n",
    "    #     nx = np.uint8(nx*255.0)\n",
    "        imgs.append(nx)\n",
    "\n",
    "        x = torch.tanh(CA.forward(x, step_size=1, fire_rate=1))\n",
    "        x = x.detach()\n",
    "\n",
    "\n",
    "        if i%50 == 0:\n",
    "            plt.clf()\n",
    "            plt.imshow(nx)\n",
    "            plt.gcf().set_size_inches((8,8))\n",
    "            clear_output(wait=True)\n",
    "            print(f'{i}')\n",
    "            display(plt.gcf())\n",
    "            time.sleep(0.01)\n",
    "\n",
    "\n",
    "            \n",
    "fname = time.strftime(\"%Y%m%d-%H%M%S\")\n",
    "\n",
    "out = cv2.VideoWriter(f'CA-{fname}.avi',cv2.VideoWriter_fourcc(*'mp4v'), 30, (SIZE, SIZE), 3)\n",
    "\n",
    "for img in imgs:\n",
    "    img = np.uint8(cv2.cvtColor(img, cv2.COLOR_RGB2BGR)*255.0)\n",
    "    out.write(img)\n",
    "out.release()"
   ]
  },
  {
   "cell_type": "code",
   "execution_count": 48,
   "metadata": {},
   "outputs": [],
   "source": [
    "import imageio\n",
    "from os import path, makedirs\n",
    "\n",
    "folder = 'png_seq/' + fname\n",
    "if not path.exists(folder):\n",
    "    makedirs(folder)\n",
    "            \n",
    "imgs = [np.uint8(cv2.cvtColor(img, cv2.COLOR_RGB2BGR)*255.0) for img in imgs]\n",
    "for i, img in enumerate(imgs):\n",
    "    imageio.imwrite(folder + f'/_{str(i).zfill(3)}.png', img, format='png')"
   ]
  },
  {
   "cell_type": "code",
   "execution_count": 47,
   "metadata": {},
   "outputs": [
    {
     "data": {
      "text/plain": [
       "'png_seq/20200416-045015'"
      ]
     },
     "execution_count": 47,
     "metadata": {},
     "output_type": "execute_result"
    }
   ],
   "source": [
    "folder"
   ]
  },
  {
   "cell_type": "code",
   "execution_count": 44,
   "metadata": {},
   "outputs": [],
   "source": [
    "for img in imgs:\n",
    "    imageio.imwrite(fname + '.png', img, format='png')"
   ]
  },
  {
   "cell_type": "code",
   "execution_count": 32,
   "metadata": {
    "Collapsed": "false"
   },
   "outputs": [],
   "source": [
    "fname = 'model/CA_model_' + time.strftime(\"%Y%m%d-%H%M%S\") + '.pb'\n",
    "torch.save(CA.dmodel, fname)"
   ]
  },
  {
   "cell_type": "code",
   "execution_count": 30,
   "metadata": {
    "Collapsed": "false"
   },
   "outputs": [
    {
     "data": {
      "text/plain": [
       "CAModel(\n",
       "  (dmodel): Sequential(\n",
       "    (conv1): Conv2d(48, 128, kernel_size=(1, 1), stride=(1, 1))\n",
       "    (relu1): ReLU()\n",
       "    (conv2): Conv2d(128, 16, kernel_size=(1, 1), stride=(1, 1))\n",
       "  )\n",
       ")"
      ]
     },
     "execution_count": 30,
     "metadata": {},
     "output_type": "execute_result"
    }
   ],
   "source": [
    "CA = CAModel()\n",
    "\n",
    "CA.dmodel = torch.load(fname)\n",
    "CA.cuda()"
   ]
  }
 ],
 "metadata": {
  "kernelspec": {
   "display_name": "Python 3",
   "language": "python",
   "name": "python3"
  },
  "language_info": {
   "codemirror_mode": {
    "name": "ipython",
    "version": 3
   },
   "file_extension": ".py",
   "mimetype": "text/x-python",
   "name": "python",
   "nbconvert_exporter": "python",
   "pygments_lexer": "ipython3",
   "version": "3.7.6"
  }
 },
 "nbformat": 4,
 "nbformat_minor": 4
}
